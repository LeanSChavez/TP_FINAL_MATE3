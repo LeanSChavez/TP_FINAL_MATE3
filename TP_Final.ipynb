{
 "cells": [
  {
   "cell_type": "code",
   "execution_count": null,
   "id": "5ce80f0c",
   "metadata": {},
   "outputs": [],
   "source": [
    "# Importar librerias\n",
    "import numpy as np\n",
    "import pandas as pd\n",
    "from sklearn.model_selection import train_test_split\n",
    "\n",
    "#Me interesa: ; dealer_up(3); initial_hand (4); dealer_final_value (6); player_final (7); player_final_value (8) ; actions_taken? (9)\n",
    "columnas = ['dealer_up','initial_hand','actions_taken','dealer_final_value','player_final_value']\n",
    "all_data = pd.read_csv(\"blackjack_simulator.csv\",usecols=columnas, nrows= 30000)\n",
    "\n",
    "inputs = all_data[['dealer_up','initial_hand']]\n",
    "outputs = all_data['actions_taken']\n",
    "all_data.head()"
   ]
  },
  {
   "cell_type": "code",
   "execution_count": null,
   "id": "b1484394",
   "metadata": {},
   "outputs": [],
   "source": [
    "# Convertir a entero la mano inicial\n",
    "inputs = all_data.copy()\n",
    "inputs['player_initial_value'] = inputs['initial_hand'].apply(lambda x: sum(eval(x)))\n",
    "inputs = inputs[['dealer_up', 'player_initial_value']]\n",
    "\n",
    "# Sacar la primera acción\n",
    "outputs = all_data['actions_taken'].apply(lambda x: eval(x)[0] if len(eval(x)) > 0 else None)\n",
    "\n",
    "# Filtrar acciones válidas\n",
    "valid_actions = {'S': 0, 'H': 1}\n",
    "mask = outputs.isin(valid_actions.keys())\n",
    "\n",
    "# Alinear correctamente\n",
    "inputs = inputs.loc[mask].reset_index(drop=True)\n",
    "outputs = outputs.loc[mask].map(valid_actions).astype(int).reset_index(drop=True)\n",
    "\n",
    "# Concatenar y mostrar\n",
    "df_preview = pd.concat([inputs, outputs.rename(\"action\")], axis=1)\n",
    "display(df_preview.head())"
   ]
  }
 ],
 "metadata": {
  "language_info": {
   "name": "python"
  }
 },
 "nbformat": 4,
 "nbformat_minor": 5
}
